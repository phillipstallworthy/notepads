{
 "cells": [
  {
   "cell_type": "code",
   "execution_count": 2,
   "id": "cdba6819-f7ed-4a64-99ce-ff76bfcba92b",
   "metadata": {},
   "outputs": [],
   "source": [
    "import math\n",
    "import numpy as np\n",
    "import matplotlib.pyplot as plt\n",
    "%matplotlib inline"
   ]
  },
  {
   "cell_type": "code",
   "execution_count": 13,
   "id": "732c5652-4977-4026-b07a-0e2f0d8554eb",
   "metadata": {},
   "outputs": [
    {
     "data": {
      "text/plain": [
       "array([[ 9],\n",
       "       [18],\n",
       "       [27]])"
      ]
     },
     "execution_count": 13,
     "metadata": {},
     "output_type": "execute_result"
    }
   ],
   "source": [
    "matrix_1 = np.array([[1,1,1],[2,2,2],[3,3,3]])\n",
    "matrix_2 = np.array([[2],[3],[4]])\n",
    "\n",
    "result = matrix_1.dot(matrix_2)\n",
    "\n",
    "result\n"
   ]
  },
  {
   "cell_type": "markdown",
   "id": "4858c5a5-3a63-4ca6-b44f-9b3e4ee960c1",
   "metadata": {},
   "source": [
    "Matrix multiplication example:\n",
    "$$\n",
    "\\begin{bmatrix}\n",
    "  1 & 1 & 1 \\\\\n",
    "  2 & 2 & 2 \\\\\n",
    "  3 & 3 & 3 \n",
    " \\end{bmatrix}\n",
    " .\n",
    " \\begin{bmatrix}\n",
    "  2 & 3 & 4\n",
    " \\end{bmatrix}\n",
    " =\n",
    " \\begin{bmatrix}\n",
    "  9 & 18 & 27\n",
    " \\end{bmatrix}\n",
    "$$"
   ]
  }
 ],
 "metadata": {
  "kernelspec": {
   "display_name": "Python 3 (ipykernel)",
   "language": "python",
   "name": "python3"
  },
  "language_info": {
   "codemirror_mode": {
    "name": "ipython",
    "version": 3
   },
   "file_extension": ".py",
   "mimetype": "text/x-python",
   "name": "python",
   "nbconvert_exporter": "python",
   "pygments_lexer": "ipython3",
   "version": "3.10.12"
  }
 },
 "nbformat": 4,
 "nbformat_minor": 5
}
