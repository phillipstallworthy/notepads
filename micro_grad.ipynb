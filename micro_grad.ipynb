{
 "cells": [
  {
   "cell_type": "code",
   "execution_count": 1,
   "id": "fe473c52-de24-49b1-ac9f-1851a706ef52",
   "metadata": {},
   "outputs": [],
   "source": [
    "import math\n",
    "import numpy as np\n",
    "import matplotlib.pyplot as plt\n",
    "%matplotlib inline"
   ]
  },
  {
   "cell_type": "markdown",
   "id": "ba1cb197-76d3-4ca2-a845-9a89727620f2",
   "metadata": {},
   "source": [
    "$$\\displaystyle{3}{x}^{2}-{4}{x}+{5}$$"
   ]
  },
  {
   "cell_type": "code",
   "execution_count": 5,
   "id": "1524a11e",
   "metadata": {},
   "outputs": [
    {
     "data": {
      "text/plain": [
       "14.029999999999632"
      ]
     },
     "execution_count": 5,
     "metadata": {},
     "output_type": "execute_result"
    }
   ],
   "source": [
    "h=0.01\n",
    "x = 3.0\n",
    "f(x) #simple function call - returns 20\n",
    "f(x + h) # increase the parameter, x, by a small amount, notice the graph is sloping up an this point - x=3, so y goes up a bit.\n",
    "(f(x + h) - f(x)) # subtract the orignal to just get the change, rather that the new value of y - 0.01400300000000243\n",
    "(f(x + h) - f(x))/h #normalise by dividing the change in y, but the change in x - run over rise, which gives slope - ~14 : 3x\n"
   ]
  },
  {
   "cell_type": "markdown",
   "id": "3df102df",
   "metadata": {},
   "source": [
    "\n",
    "$3x^{2}"
   ]
  },
  {
   "cell_type": "code",
   "execution_count": 27,
   "id": "d9c6d49b",
   "metadata": {},
   "outputs": [
    {
     "data": {
      "text/plain": [
       "{Value(data=10), Value(data=6.0)}"
      ]
     },
     "execution_count": 27,
     "metadata": {},
     "output_type": "execute_result"
    }
   ],
   "source": [
    "class Value:\n",
    "    def __init__(self, data, _children=(), _op=''):\n",
    "        self.data = data\n",
    "        self._prev = set(_children)\n",
    "        self.op =_op\n",
    "\n",
    "    def __repr__(self):\n",
    "        return f\"Value(data={self.data})\"\n",
    "    \n",
    "    def __add__(self, other):\n",
    "        out = Value(self.data + other.data, (self, other), '+')\n",
    "        return out\n",
    "    \n",
    "    def __mul__(self, other):\n",
    "        out = Value(self.data * other.data, (self, other), '*')\n",
    "        return out\n",
    "    \n",
    "\n",
    "a = Value(3.0)\n",
    "b = Value(2.0)\n",
    "c = Value(10)\n",
    "d = a * b + c\n",
    "d._prev"
   ]
  },
  {
   "cell_type": "code",
   "execution_count": 29,
   "id": "dacc9714",
   "metadata": {},
   "outputs": [],
   "source": [
    "from graphviz import Digraph\n",
    "\n",
    "def trace(root):\n",
    "    nodes, edges = set(), set()\n",
    "    def build(v):\n",
    "        if v not in nodes:\n",
    "            nodes.add(v)\n",
    "            for child in v._prev:\n",
    "                edges.add((child, v))\n",
    "                build(child)\n",
    "    build(root)\n",
    "    return nodes, edges\n",
    "\n",
    "def draw_dot(root, format='svg', rankdir='LR'):\n",
    "    \"\"\"\n",
    "    format: png | svg | ...\n",
    "    rankdir: TB (top to bottom graph) | LR (left to right)\n",
    "    \"\"\"\n",
    "    assert rankdir in ['LR', 'TB']\n",
    "    nodes, edges = trace(root)\n",
    "    dot = Digraph(format=format, graph_attr={'rankdir': rankdir}) #, node_attr={'rankdir': 'TB'})\n",
    "    \n",
    "    for n in nodes:\n",
    "        dot.node(name=str(id(n)), label = \"{ data %.4f | grad %.4f }\" % (n.data, n.grad), shape='record')\n",
    "        if n._op:\n",
    "            dot.node(name=str(id(n)) + n._op, label=n._op)\n",
    "            dot.edge(str(id(n)) + n._op, str(id(n)))\n",
    "    \n",
    "    for n1, n2 in edges:\n",
    "        dot.edge(str(id(n1)), str(id(n2)) + n2._op)\n",
    "    \n",
    "    return dot"
   ]
  },
  {
   "cell_type": "code",
   "execution_count": 23,
   "id": "1e65b3f9",
   "metadata": {},
   "outputs": [
    {
     "ename": "AttributeError",
     "evalue": "'Value' object has no attribute '_prev'",
     "output_type": "error",
     "traceback": [
      "\u001b[0;31m---------------------------------------------------------------------------\u001b[0m",
      "\u001b[0;31mAttributeError\u001b[0m                            Traceback (most recent call last)",
      "Cell \u001b[0;32mIn[23], line 1\u001b[0m\n\u001b[0;32m----> 1\u001b[0m \u001b[43mdraw_dot\u001b[49m\u001b[43m(\u001b[49m\u001b[43md\u001b[49m\u001b[43m)\u001b[49m\n",
      "Cell \u001b[0;32mIn[22], line 18\u001b[0m, in \u001b[0;36mdraw_dot\u001b[0;34m(root, format, rankdir)\u001b[0m\n\u001b[1;32m     13\u001b[0m \u001b[38;5;250m\u001b[39m\u001b[38;5;124;03m\"\"\"\u001b[39;00m\n\u001b[1;32m     14\u001b[0m \u001b[38;5;124;03mformat: png | svg | ...\u001b[39;00m\n\u001b[1;32m     15\u001b[0m \u001b[38;5;124;03mrankdir: TB (top to bottom graph) | LR (left to right)\u001b[39;00m\n\u001b[1;32m     16\u001b[0m \u001b[38;5;124;03m\"\"\"\u001b[39;00m\n\u001b[1;32m     17\u001b[0m \u001b[38;5;28;01massert\u001b[39;00m rankdir \u001b[38;5;129;01min\u001b[39;00m [\u001b[38;5;124m'\u001b[39m\u001b[38;5;124mLR\u001b[39m\u001b[38;5;124m'\u001b[39m, \u001b[38;5;124m'\u001b[39m\u001b[38;5;124mTB\u001b[39m\u001b[38;5;124m'\u001b[39m]\n\u001b[0;32m---> 18\u001b[0m nodes, edges \u001b[38;5;241m=\u001b[39m \u001b[43mtrace\u001b[49m\u001b[43m(\u001b[49m\u001b[43mroot\u001b[49m\u001b[43m)\u001b[49m\n\u001b[1;32m     19\u001b[0m dot \u001b[38;5;241m=\u001b[39m Digraph(\u001b[38;5;28mformat\u001b[39m\u001b[38;5;241m=\u001b[39m\u001b[38;5;28mformat\u001b[39m, graph_attr\u001b[38;5;241m=\u001b[39m{\u001b[38;5;124m'\u001b[39m\u001b[38;5;124mrankdir\u001b[39m\u001b[38;5;124m'\u001b[39m: rankdir}) \u001b[38;5;66;03m#, node_attr={'rankdir': 'TB'})\u001b[39;00m\n\u001b[1;32m     21\u001b[0m \u001b[38;5;28;01mfor\u001b[39;00m n \u001b[38;5;129;01min\u001b[39;00m nodes:\n",
      "Cell \u001b[0;32mIn[22], line 9\u001b[0m, in \u001b[0;36mtrace\u001b[0;34m(root)\u001b[0m\n\u001b[1;32m      7\u001b[0m             edges\u001b[38;5;241m.\u001b[39madd((child, v))\n\u001b[1;32m      8\u001b[0m             build(child)\n\u001b[0;32m----> 9\u001b[0m \u001b[43mbuild\u001b[49m\u001b[43m(\u001b[49m\u001b[43mroot\u001b[49m\u001b[43m)\u001b[49m\n\u001b[1;32m     10\u001b[0m \u001b[38;5;28;01mreturn\u001b[39;00m nodes, edges\n",
      "Cell \u001b[0;32mIn[22], line 6\u001b[0m, in \u001b[0;36mtrace.<locals>.build\u001b[0;34m(v)\u001b[0m\n\u001b[1;32m      4\u001b[0m \u001b[38;5;28;01mif\u001b[39;00m v \u001b[38;5;129;01mnot\u001b[39;00m \u001b[38;5;129;01min\u001b[39;00m nodes:\n\u001b[1;32m      5\u001b[0m     nodes\u001b[38;5;241m.\u001b[39madd(v)\n\u001b[0;32m----> 6\u001b[0m     \u001b[38;5;28;01mfor\u001b[39;00m child \u001b[38;5;129;01min\u001b[39;00m \u001b[43mv\u001b[49m\u001b[38;5;241;43m.\u001b[39;49m\u001b[43m_prev\u001b[49m:\n\u001b[1;32m      7\u001b[0m         edges\u001b[38;5;241m.\u001b[39madd((child, v))\n\u001b[1;32m      8\u001b[0m         build(child)\n",
      "\u001b[0;31mAttributeError\u001b[0m: 'Value' object has no attribute '_prev'"
     ]
    }
   ],
   "source": [
    "draw_dot(d)"
   ]
  }
 ],
 "metadata": {
  "kernelspec": {
   "display_name": "Python 3 (ipykernel)",
   "language": "python",
   "name": "python3"
  },
  "language_info": {
   "codemirror_mode": {
    "name": "ipython",
    "version": 3
   },
   "file_extension": ".py",
   "mimetype": "text/x-python",
   "name": "python",
   "nbconvert_exporter": "python",
   "pygments_lexer": "ipython3",
   "version": "3.10.12"
  }
 },
 "nbformat": 4,
 "nbformat_minor": 5
}
