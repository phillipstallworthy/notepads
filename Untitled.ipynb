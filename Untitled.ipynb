{
 "cells": [
  {
   "cell_type": "code",
   "execution_count": null,
   "id": "fe473c52-de24-49b1-ac9f-1851a706ef52",
   "metadata": {},
   "outputs": [],
   "source": [
    "import math\n",
    "import numpy as np\n",
    "import matplotlib.pyplot as plt\n",
    "%matplotlib inline"
   ]
  },
  {
   "cell_type": "code",
   "execution_count": null,
   "id": "36cf4fbd-d97b-4879-bf90-2234a107a761",
   "metadata": {},
   "outputs": [],
   "source": [
    "def f(x):\n",
    "    return 3*x**2 - 4*x +5"
   ]
  },
  {
   "cell_type": "code",
   "execution_count": null,
   "id": "82a951eb-362c-41d4-bbfb-ffe296a48872",
   "metadata": {},
   "outputs": [],
   "source": [
    "f(3.0)"
   ]
  },
  {
   "cell_type": "code",
   "execution_count": 1,
   "id": "a485a2a6-67d6-4ab5-aa90-2d0455732b1d",
   "metadata": {},
   "outputs": [
    {
     "ename": "NameError",
     "evalue": "name 'np' is not defined",
     "output_type": "error",
     "traceback": [
      "\u001b[0;31m---------------------------------------------------------------------------\u001b[0m",
      "\u001b[0;31mNameError\u001b[0m                                 Traceback (most recent call last)",
      "Cell \u001b[0;32mIn[1], line 1\u001b[0m\n\u001b[0;32m----> 1\u001b[0m xs \u001b[38;5;241m=\u001b[39m \u001b[43mnp\u001b[49m\u001b[38;5;241m.\u001b[39marange(\u001b[38;5;241m-\u001b[39m\u001b[38;5;241m5\u001b[39m, \u001b[38;5;241m5\u001b[39m, \u001b[38;5;241m0.25\u001b[39m)\n\u001b[1;32m      2\u001b[0m ys \u001b[38;5;241m=\u001b[39m f(xs)\n\u001b[1;32m      3\u001b[0m plt\u001b[38;5;241m.\u001b[39mplot(xs,ys)\n",
      "\u001b[0;31mNameError\u001b[0m: name 'np' is not defined"
     ]
    }
   ],
   "source": [
    "xs = np.arange(-5, 5, 0.25)\n",
    "ys = f(xs)\n",
    "plt.plot(xs,ys)"
   ]
  },
  {
   "cell_type": "code",
   "execution_count": null,
   "id": "1524a11e",
   "metadata": {},
   "outputs": [],
   "source": [
    "h=0.01\n",
    "x = 3.0\n",
    "f(x) #simple function call - returns 20\n",
    "f(x + h) # increase the parameter, x, by a small amount, notice the graph is sloping up an this point - x=3, so y goes up a bit.\n",
    "(f(x + h) - f(x)) # subtract the orignal to just get the change, rather that the new value of y - 0.01400300000000243\n",
    "(f(x + h) - f(x))/h #normalise by dividing the change in y, but the change in x - run over rise, which gives slope - ~14 : 3x\n"
   ]
  },
  {
   "cell_type": "markdown",
   "id": "3df102df",
   "metadata": {},
   "source": [
    "\n",
    "$3x^{2}"
   ]
  },
  {
   "cell_type": "markdown",
   "id": "8a4300a3-957c-4752-8f12-c491c6b1299d",
   "metadata": {},
   "source": [
    "### differentiation\n",
    "\n",
    "\n",
    "for the equation  - $3x^{2} - 4x + 3$\n",
    "\n",
    "differencial is\n",
    "$6x +4$\n",
    "\n",
    "so for input of x=4, slope is 14\n"
   ]
  },
  {
   "cell_type": "code",
   "execution_count": null,
   "id": "3afbd79f",
   "metadata": {},
   "outputs": [],
   "source": []
  },
  {
   "cell_type": "code",
   "execution_count": 4,
   "id": "d9c6d49b",
   "metadata": {},
   "outputs": [
    {
     "data": {
      "text/plain": [
       "Value(data=3.0)"
      ]
     },
     "execution_count": 4,
     "metadata": {},
     "output_type": "execute_result"
    }
   ],
   "source": [
    "class Value:\n",
    "    def __init__(self, data):\n",
    "        self.data = data\n",
    "\n",
    "    def __repr__(self):\n",
    "        return f\"Value(data={self.data})\"\n",
    "    \n",
    "\n",
    "a = Value(3.0)\n",
    "a"
   ]
  }
 ],
 "metadata": {
  "kernelspec": {
   "display_name": "Python 3 (ipykernel)",
   "language": "python",
   "name": "python3"
  },
  "language_info": {
   "codemirror_mode": {
    "name": "ipython",
    "version": 3
   },
   "file_extension": ".py",
   "mimetype": "text/x-python",
   "name": "python",
   "nbconvert_exporter": "python",
   "pygments_lexer": "ipython3",
   "version": "3.10.12"
  }
 },
 "nbformat": 4,
 "nbformat_minor": 5
}
